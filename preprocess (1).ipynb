{
 "cells": [
  {
   "cell_type": "code",
   "execution_count": null,
   "metadata": {
    "execution": {
     "iopub.execute_input": "2024-10-30T06:16:05.484322Z",
     "iopub.status.busy": "2024-10-30T06:16:05.483932Z",
     "iopub.status.idle": "2024-10-30T06:16:08.648922Z",
     "shell.execute_reply": "2024-10-30T06:16:08.647886Z",
     "shell.execute_reply.started": "2024-10-30T06:16:05.484284Z"
    },
    "trusted": true
   },
   "outputs": [],
   "source": [
    "import json"
   ]
  },
  {
   "cell_type": "code",
   "execution_count": null,
   "metadata": {
    "execution": {
     "iopub.execute_input": "2024-10-30T06:17:23.290445Z",
     "iopub.status.busy": "2024-10-30T06:17:23.289962Z",
     "iopub.status.idle": "2024-10-30T06:17:23.326265Z",
     "shell.execute_reply": "2024-10-30T06:17:23.325413Z",
     "shell.execute_reply.started": "2024-10-30T06:17:23.290405Z"
    },
    "trusted": true
   },
   "outputs": [],
   "source": [
    "kw = open(r\"/kaggle/input/training-label/training_label.json\")\n",
    "data12 = json.load(kw)\n",
    "data12[0]"
   ]
  },
  {
   "cell_type": "code",
   "execution_count": null,
   "metadata": {
    "execution": {
     "iopub.execute_input": "2024-10-30T06:17:28.282310Z",
     "iopub.status.busy": "2024-10-30T06:17:28.281421Z",
     "iopub.status.idle": "2024-10-30T06:17:28.334132Z",
     "shell.execute_reply": "2024-10-30T06:17:28.333250Z",
     "shell.execute_reply.started": "2024-10-30T06:17:28.282269Z"
    },
    "trusted": true
   },
   "outputs": [],
   "source": [
    "k = open(r\"/kaggle/input/caption-cat/train-00000-of-00001-60e50ff5fbbd1bb5.json\")\n",
    "data1 = json.load(k)\n",
    "data = data1['data']\n",
    "print(len(data))\n",
    "m=[]\n",
    "for i in range(6513):\n",
    "        m.append(data[i][\"video_id\"][5:])\n",
    "print(len(m))\n",
    "# print(m)"
   ]
  },
  {
   "cell_type": "code",
   "execution_count": null,
   "metadata": {
    "execution": {
     "iopub.execute_input": "2024-10-30T06:17:30.574944Z",
     "iopub.status.busy": "2024-10-30T06:17:30.574566Z",
     "iopub.status.idle": "2024-10-30T06:17:47.242269Z",
     "shell.execute_reply": "2024-10-30T06:17:47.240997Z",
     "shell.execute_reply.started": "2024-10-30T06:17:30.574907Z"
    },
    "trusted": true
   },
   "outputs": [],
   "source": [
    "pip install googletrans==4.0.0-rc1\n"
   ]
  },
  {
   "cell_type": "code",
   "execution_count": null,
   "metadata": {
    "execution": {
     "iopub.execute_input": "2024-10-30T06:18:38.346847Z",
     "iopub.status.busy": "2024-10-30T06:18:38.346204Z",
     "iopub.status.idle": "2024-10-30T06:18:38.750684Z",
     "shell.execute_reply": "2024-10-30T06:18:38.749382Z",
     "shell.execute_reply.started": "2024-10-30T06:18:38.346803Z"
    },
    "trusted": true
   },
   "outputs": [],
   "source": [
    "from googletrans import Translator\n",
    "\n",
    "def translate_to_hindi(text):\n",
    "    translator = Translator()\n",
    "    translation = translator.translate(text, src='en', dest='hi')\n",
    "    return translation.text\n",
    "translate_to_hindi(\"hi i am bhavesh\")"
   ]
  },
  {
   "cell_type": "code",
   "execution_count": null,
   "metadata": {
    "execution": {
     "iopub.execute_input": "2024-10-30T06:06:39.489523Z",
     "iopub.status.busy": "2024-10-30T06:06:39.489137Z",
     "iopub.status.idle": "2024-10-30T06:10:09.057717Z",
     "shell.execute_reply": "2024-10-30T06:10:09.056365Z",
     "shell.execute_reply.started": "2024-10-30T06:06:39.489492Z"
    },
    "trusted": true
   },
   "outputs": [],
   "source": [
    "k = open(r\"/kaggle/input/msrvttcaptiondataset/Result/caption.json\")\n",
    "dic = {}\n",
    "data1 = json.load(k)\n",
    "for i,id in enumerate(m):\n",
    "    # print(i)\n",
    "    # print(data1[i]['captions'])\n",
    "    print(i)\n",
    "    for m in range(len(data1[id]['captions'])):\n",
    "        data1[id]['captions'][m] = translate_to_hindi(data1[id]['captions'][m])\n",
    "    dic[i] = {\"caption\":data1[id]['captions'],\"id\" : f\"video{id}.mp4\"}\n",
    "\n",
    "print(dic[3])"
   ]
  },
  {
   "cell_type": "code",
   "execution_count": null,
   "metadata": {
    "execution": {
     "iopub.execute_input": "2024-10-26T07:14:18.601049Z",
     "iopub.status.busy": "2024-10-26T07:14:18.600159Z",
     "iopub.status.idle": "2024-10-26T07:14:18.851797Z",
     "shell.execute_reply": "2024-10-26T07:14:18.850183Z",
     "shell.execute_reply.started": "2024-10-26T07:14:18.601000Z"
    },
    "trusted": true
   },
   "outputs": [],
   "source": [
    "with open('/kaggle/working/data.json', 'w') as json_file:\n",
    "    json.dump(dic, json_file)"
   ]
  },
  {
   "cell_type": "code",
   "execution_count": null,
   "metadata": {
    "execution": {
     "iopub.execute_input": "2024-10-26T07:14:20.239119Z",
     "iopub.status.busy": "2024-10-26T07:14:20.238653Z",
     "iopub.status.idle": "2024-10-26T07:14:20.488275Z",
     "shell.execute_reply": "2024-10-26T07:14:20.487110Z",
     "shell.execute_reply.started": "2024-10-26T07:14:20.239063Z"
    },
    "trusted": true
   },
   "outputs": [],
   "source": [
    "g = open('/kaggle/working/data.json')\n",
    "gh = json.load(g)\n",
    "gh[\"0\"]"
   ]
  },
  {
   "cell_type": "code",
   "execution_count": null,
   "metadata": {
    "trusted": true
   },
   "outputs": [],
   "source": []
  },
  {
   "cell_type": "code",
   "execution_count": null,
   "metadata": {
    "trusted": true
   },
   "outputs": [],
   "source": []
  }
 ],
 "metadata": {
  "kaggle": {
   "accelerator": "none",
   "dataSources": [
    {
     "datasetId": 2691782,
     "sourceId": 4625772,
     "sourceType": "datasetVersion"
    },
    {
     "datasetId": 5882313,
     "sourceId": 9634529,
     "sourceType": "datasetVersion"
    },
    {
     "datasetId": 5912577,
     "sourceId": 9674556,
     "sourceType": "datasetVersion"
    }
   ],
   "dockerImageVersionId": 30786,
   "isGpuEnabled": false,
   "isInternetEnabled": true,
   "language": "python",
   "sourceType": "notebook"
  },
  "kernelspec": {
   "display_name": "Python 3",
   "language": "python",
   "name": "python3"
  },
  "language_info": {
   "codemirror_mode": {
    "name": "ipython",
    "version": 3
   },
   "file_extension": ".py",
   "mimetype": "text/x-python",
   "name": "python",
   "nbconvert_exporter": "python",
   "pygments_lexer": "ipython3",
   "version": "3.10.14"
  }
 },
 "nbformat": 4,
 "nbformat_minor": 4
}
